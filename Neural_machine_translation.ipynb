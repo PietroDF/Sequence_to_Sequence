{
  "nbformat": 4,
  "nbformat_minor": 0,
  "metadata": {
    "colab": {
      "name": "Neural_machine_translation",
      "provenance": [],
      "collapsed_sections": [],
      "toc_visible": true,
      "machine_shape": "hm",
      "mount_file_id": "1yS4BbzSZbLOjWe9tvi4x5KlgrJm3abv4",
      "authorship_tag": "ABX9TyON9jPYP7foOd5++6UtRMBD",
      "include_colab_link": true
    },
    "kernelspec": {
      "name": "python3",
      "display_name": "Python 3"
    }
  },
  "cells": [
    {
      "cell_type": "markdown",
      "metadata": {
        "id": "view-in-github",
        "colab_type": "text"
      },
      "source": [
        "<a href=\"https://colab.research.google.com/github/PietroDF/Sequence_to_Sequence/blob/master/Neural_machine_translation.ipynb\" target=\"_parent\"><img src=\"https://colab.research.google.com/assets/colab-badge.svg\" alt=\"Open In Colab\"/></a>"
      ]
    },
    {
      "cell_type": "markdown",
      "metadata": {
        "id": "Ti6PJ2LBqqKB",
        "colab_type": "text"
      },
      "source": [
        "# Neural machine translation"
      ]
    },
    {
      "cell_type": "markdown",
      "metadata": {
        "id": "dHA318OJxh-X",
        "colab_type": "text"
      },
      "source": [
        "Inspiring tutorial @ https://www.shanelynn.ie/word-embeddings-in-python-with-spacy-and-gensim/\n",
        "\n",
        "Inspiring tutorial 2 @ https://machinelearningmastery.com/develop-neural-machine-translation-system-keras/\n"
      ]
    },
    {
      "cell_type": "markdown",
      "metadata": {
        "id": "nGr2YCGoxVoF",
        "colab_type": "text"
      },
      "source": [
        "Models properties @ https://spacy.io/models"
      ]
    },
    {
      "cell_type": "code",
      "metadata": {
        "id": "Jx8Euve3zYHN",
        "colab_type": "code",
        "colab": {}
      },
      "source": [
        "import numpy as np\n",
        "import matplotlib.pyplot as plt\n",
        "from tensorflow.keras.utils import to_categorical"
      ],
      "execution_count": 0,
      "outputs": []
    },
    {
      "cell_type": "markdown",
      "metadata": {
        "id": "ENs2Wa-5Cha4",
        "colab_type": "text"
      },
      "source": [
        "## Drive mount"
      ]
    },
    {
      "cell_type": "code",
      "metadata": {
        "id": "Lr3zu7fvCgo7",
        "colab_type": "code",
        "colab": {}
      },
      "source": [
        "# from google.colab import drive\n",
        "# drive.mount('/gdrive')"
      ],
      "execution_count": 0,
      "outputs": []
    },
    {
      "cell_type": "markdown",
      "metadata": {
        "id": "JSdAwiRsEwNG",
        "colab_type": "text"
      },
      "source": [
        "## Dataset download"
      ]
    },
    {
      "cell_type": "code",
      "metadata": {
        "id": "vnD4sgf1-me9",
        "colab_type": "code",
        "colab": {}
      },
      "source": [
        "!mkdir '/content/dataset_directory'"
      ],
      "execution_count": 0,
      "outputs": []
    },
    {
      "cell_type": "code",
      "metadata": {
        "id": "pN1aETbI5SFG",
        "colab_type": "code",
        "outputId": "8eec6b22-b406-4091-af81-0aa5f7fef3d2",
        "colab": {
          "base_uri": "https://localhost:8080/",
          "height": 202
        }
      },
      "source": [
        "!wget --no-check-certificate \\\n",
        "    http://www.manythings.org/anki/ita-eng.zip \\\n",
        "    -O /content/dataset_directory/parallel_corpora.zip"
      ],
      "execution_count": 0,
      "outputs": [
        {
          "output_type": "stream",
          "text": [
            "--2020-04-19 07:43:18--  http://www.manythings.org/anki/ita-eng.zip\n",
            "Resolving www.manythings.org (www.manythings.org)... 104.24.109.196, 104.24.108.196, 2606:4700:3037::6818:6cc4, ...\n",
            "Connecting to www.manythings.org (www.manythings.org)|104.24.109.196|:80... connected.\n",
            "HTTP request sent, awaiting response... 200 OK\n",
            "Length: 7345811 (7.0M) [application/zip]\n",
            "Saving to: ‘/content/dataset_directory/parallel_corpora.zip’\n",
            "\n",
            "/content/dataset_di 100%[===================>]   7.00M  5.83MB/s    in 1.2s    \n",
            "\n",
            "2020-04-19 07:43:20 (5.83 MB/s) - ‘/content/dataset_directory/parallel_corpora.zip’ saved [7345811/7345811]\n",
            "\n"
          ],
          "name": "stdout"
        }
      ]
    },
    {
      "cell_type": "code",
      "metadata": {
        "id": "6ndWQ-IdB_dW",
        "colab_type": "code",
        "outputId": "e8ea7002-2e21-4d6e-ae85-b123662d1566",
        "colab": {
          "base_uri": "https://localhost:8080/",
          "height": 67
        }
      },
      "source": [
        "!unzip /content/dataset_directory/parallel_corpora.zip -d /content/dataset_directory"
      ],
      "execution_count": 0,
      "outputs": [
        {
          "output_type": "stream",
          "text": [
            "Archive:  /content/dataset_directory/parallel_corpora.zip\n",
            "  inflating: /content/dataset_directory/ita.txt  \n",
            "  inflating: /content/dataset_directory/_about.txt  \n"
          ],
          "name": "stdout"
        }
      ]
    },
    {
      "cell_type": "code",
      "metadata": {
        "id": "YRBaC5sd_E-N",
        "colab_type": "code",
        "colab": {}
      },
      "source": [
        "!rm /content/dataset_directory/parallel_corpora.zip"
      ],
      "execution_count": 0,
      "outputs": []
    },
    {
      "cell_type": "code",
      "metadata": {
        "id": "VE9rpw_0EK8X",
        "colab_type": "code",
        "colab": {}
      },
      "source": [
        ""
      ],
      "execution_count": 0,
      "outputs": []
    },
    {
      "cell_type": "markdown",
      "metadata": {
        "id": "aiA1t86BFtFm",
        "colab_type": "text"
      },
      "source": [
        "## Lettura del dataset"
      ]
    },
    {
      "cell_type": "code",
      "metadata": {
        "id": "9w20TW0RDR2v",
        "colab_type": "code",
        "colab": {}
      },
      "source": [
        "parallel_corpora = []\n",
        "with open('/content/dataset_directory/ita.txt') as f:\n",
        "    \n",
        "    for line in f:\n",
        "\n",
        "        inner_list = [elt.strip(\".\").replace(\"è\",\"\")\n",
        "                                    .replace(\"é\",\"\")\n",
        "                                    .lower()\n",
        "                                    .replace('?','')\n",
        "                                    .replace(\"'\",'')\n",
        "                                    .replace('!','')\n",
        "                                    .replace(\"  \",\" \") for elt in line.split('\\t')]\n",
        "        parallel_corpora.append(inner_list[:2])"
      ],
      "execution_count": 0,
      "outputs": []
    },
    {
      "cell_type": "code",
      "metadata": {
        "id": "sz9UL_ayDoxe",
        "colab_type": "code",
        "outputId": "05a627fb-ba99-42bb-f6ef-ac62f6109a93",
        "colab": {
          "base_uri": "https://localhost:8080/",
          "height": 50
        }
      },
      "source": [
        "parallel_corpora[300001]"
      ],
      "execution_count": 0,
      "outputs": [
        {
          "output_type": "execute_result",
          "data": {
            "text/plain": [
              "['i dont know how to solve this problem',\n",
              " 'io non so come risolvere questo problema']"
            ]
          },
          "metadata": {
            "tags": []
          },
          "execution_count": 8
        }
      ]
    },
    {
      "cell_type": "code",
      "metadata": {
        "id": "rDpBcnz3EDUA",
        "colab_type": "code",
        "colab": {}
      },
      "source": [
        ""
      ],
      "execution_count": 0,
      "outputs": []
    },
    {
      "cell_type": "markdown",
      "metadata": {
        "id": "VfMfuQtpQX7t",
        "colab_type": "text"
      },
      "source": [
        "# inizio"
      ]
    },
    {
      "cell_type": "code",
      "metadata": {
        "id": "8ydpWg9Sty3O",
        "colab_type": "code",
        "outputId": "921cd4b4-e371-406f-d427-a2065546410e",
        "colab": {
          "base_uri": "https://localhost:8080/",
          "height": 34
        }
      },
      "source": [
        "np.shape(parallel_corpora)"
      ],
      "execution_count": 0,
      "outputs": [
        {
          "output_type": "execute_result",
          "data": {
            "text/plain": [
              "(336614, 2)"
            ]
          },
          "metadata": {
            "tags": []
          },
          "execution_count": 9
        }
      ]
    },
    {
      "cell_type": "code",
      "metadata": {
        "id": "jlkDuKb0mPhC",
        "colab_type": "code",
        "colab": {}
      },
      "source": [
        "ita_txt = [\"prendi quel pallone\", \"prendi il libro\", \"dammi quel libro\", \"dammi il gelato\"]\n",
        "eng_txt = [\"take that ball\", \"take the book\", \"give me that book\", \"give me the icecream\"]"
      ],
      "execution_count": 0,
      "outputs": []
    },
    {
      "cell_type": "code",
      "metadata": {
        "id": "fEsdKtyaty1J",
        "colab_type": "code",
        "colab": {}
      },
      "source": [
        "ita_txt = []\n",
        "eng_txt = []\n",
        "\n",
        "sentence_min_lenght = 5\n",
        "sentence_max_lenght = 8\n",
        "\n",
        "reduce_factor = 0.015\n",
        "\n",
        "for sentence in parallel_corpora:\n",
        "\n",
        "  if len(sentence[0].split(' '))>=sentence_min_lenght and len(sentence[0].split(' '))<=sentence_max_lenght :\n",
        "\n",
        "    if np.random.rand()<reduce_factor:\n",
        "      eng_txt.append(sentence[0])\n",
        "      ita_txt.append(sentence[1])"
      ],
      "execution_count": 0,
      "outputs": []
    },
    {
      "cell_type": "code",
      "metadata": {
        "id": "h_aIGQ_Ityy2",
        "colab_type": "code",
        "outputId": "2a475f33-cc06-4759-8e5c-125c3b7b6a3c",
        "colab": {
          "base_uri": "https://localhost:8080/",
          "height": 34
        }
      },
      "source": [
        "len(ita_txt)"
      ],
      "execution_count": 0,
      "outputs": [
        {
          "output_type": "execute_result",
          "data": {
            "text/plain": [
              "3106"
            ]
          },
          "metadata": {
            "tags": []
          },
          "execution_count": 103
        }
      ]
    },
    {
      "cell_type": "code",
      "metadata": {
        "id": "jrNufNiZmPlp",
        "colab_type": "code",
        "colab": {}
      },
      "source": [
        ""
      ],
      "execution_count": 0,
      "outputs": []
    },
    {
      "cell_type": "code",
      "metadata": {
        "id": "h3WVE76Zkl7k",
        "colab_type": "code",
        "colab": {}
      },
      "source": [
        "def find_distinct_words(sentence_list):\n",
        "\n",
        "  distinct_words_bla = []\n",
        "\n",
        "  distinct_words_bla.append([x.split(' ') for x in sentence_list])\n",
        "\n",
        "  distinct_words =[]\n",
        "\n",
        "  for words in distinct_words_bla[0]:\n",
        "    for j in words:\n",
        "      distinct_words.append(j)\n",
        "\n",
        "  distinct_words = np.asarray(distinct_words)\n",
        "\n",
        "  #distinct_words = np.reshape(distinct_words, distinct_words.shape[0]*distinct_words.shape[1]*distinct_words.shape[2])\n",
        "\n",
        "  distinct_words = np.unique(distinct_words)\n",
        "\n",
        "  #distinct_words = list(distinct_words)\n",
        "\n",
        "  return np.array(distinct_words)"
      ],
      "execution_count": 0,
      "outputs": []
    },
    {
      "cell_type": "code",
      "metadata": {
        "id": "N3rbu5yLkp-g",
        "colab_type": "code",
        "colab": {}
      },
      "source": [
        "# distinct_words = find_distinct_words(ita_txt)\n",
        "# distinct_words"
      ],
      "execution_count": 0,
      "outputs": []
    },
    {
      "cell_type": "code",
      "metadata": {
        "id": "zMiKPOYAvxNp",
        "colab_type": "code",
        "colab": {}
      },
      "source": [
        ""
      ],
      "execution_count": 0,
      "outputs": []
    },
    {
      "cell_type": "code",
      "metadata": {
        "id": "CrNjCjSLuuEQ",
        "colab_type": "code",
        "colab": {}
      },
      "source": [
        "def crea_dizionario(list_distinct_words):\n",
        "\n",
        "  encoded = to_categorical(np.arange(len(list_distinct_words)))\n",
        "\n",
        "  my_dict = {}\n",
        "  \n",
        "  for word,enc in zip(list_distinct_words,encoded):\n",
        "\n",
        "    my_dict[word] = enc\n",
        "\n",
        "  return my_dict"
      ],
      "execution_count": 0,
      "outputs": []
    },
    {
      "cell_type": "markdown",
      "metadata": {
        "id": "CF7XaCIcmRHv",
        "colab_type": "text"
      },
      "source": [
        "# Skip gram model"
      ]
    },
    {
      "cell_type": "code",
      "metadata": {
        "id": "kByIgB4GmO7C",
        "colab_type": "code",
        "colab": {}
      },
      "source": [
        "def crea_accoppiamenti(sentence_list, neighbour=1):\n",
        "\n",
        "  word_couples = []\n",
        "\n",
        "  for sentence in sentence_list:\n",
        "    separated_sentence = sentence.split(' ')\n",
        "\n",
        "    for idx,word in enumerate(separated_sentence):\n",
        "\n",
        "      for delta in range(neighbour):\n",
        "        word_couples.append([word,separated_sentence[idx-delta-1]])\n",
        "        \n",
        "        try:\n",
        "          word_couples.append([word,separated_sentence[idx+delta+1]])\n",
        "        except:\n",
        "          pass;\n",
        "\n",
        "  return word_couples"
      ],
      "execution_count": 0,
      "outputs": []
    },
    {
      "cell_type": "code",
      "metadata": {
        "id": "8IdH29HNmO9b",
        "colab_type": "code",
        "colab": {}
      },
      "source": [
        "#crea_accoppiamenti(ita_txt)"
      ],
      "execution_count": 0,
      "outputs": []
    },
    {
      "cell_type": "code",
      "metadata": {
        "id": "wncP0RobldwA",
        "colab_type": "code",
        "colab": {}
      },
      "source": [
        "def encode_accoppiamenti(accoppiamenti, diz_encoding):\n",
        "\n",
        "  x_input = []\n",
        "  x_outpt = []\n",
        "\n",
        "  for coppia in accoppiamenti:\n",
        "    x_input.append(diz_encoding[coppia[0]])\n",
        "    x_outpt.append(diz_encoding[coppia[1]])\n",
        "\n",
        "  return np.array(x_input), np.array(x_outpt)"
      ],
      "execution_count": 0,
      "outputs": []
    },
    {
      "cell_type": "code",
      "metadata": {
        "id": "nQ7k-hXjPvj8",
        "colab_type": "code",
        "colab": {}
      },
      "source": [
        "def prepara_accoppiamenti(txt):\n",
        "  distinct_words = find_distinct_words(txt)\n",
        "  diz_encoding =  crea_dizionario(distinct_words)\n",
        "  accoppiamenti = crea_accoppiamenti(txt, neighbour=1)\n",
        "\n",
        "  return distinct_words, accoppiamenti, diz_encoding "
      ],
      "execution_count": 0,
      "outputs": []
    },
    {
      "cell_type": "code",
      "metadata": {
        "id": "aBeT7lzClg-Q",
        "colab_type": "code",
        "colab": {}
      },
      "source": [
        "#ita_distinct_words = find_distinct_words(ita_txt)\n",
        "#ita_diz_encoding =  crea_dizionario(ita_distinct_words)\n",
        "#ita_accoppiamenti = crea_accoppiamenti(ita_txt)"
      ],
      "execution_count": 0,
      "outputs": []
    },
    {
      "cell_type": "code",
      "metadata": {
        "id": "Ssf95UVhQqWX",
        "colab_type": "code",
        "colab": {}
      },
      "source": [
        "ita_distinct_words, ita_accoppiamenti, ita_diz_encoding = prepara_accoppiamenti(ita_txt)\n",
        "eng_distinct_words, eng_accoppiamenti, eng_diz_encoding = prepara_accoppiamenti(eng_txt)"
      ],
      "execution_count": 0,
      "outputs": []
    },
    {
      "cell_type": "code",
      "metadata": {
        "id": "aZyixNjkmBUN",
        "colab_type": "code",
        "colab": {}
      },
      "source": [
        "ita_enc_input, ita_enc_outpt = encode_accoppiamenti(ita_accoppiamenti, ita_diz_encoding)\n",
        "eng_enc_input, eng_enc_outpt = encode_accoppiamenti(eng_accoppiamenti, eng_diz_encoding)"
      ],
      "execution_count": 0,
      "outputs": []
    },
    {
      "cell_type": "code",
      "metadata": {
        "id": "I06eLwQozfCt",
        "colab_type": "code",
        "outputId": "7299247c-9577-4208-be32-36491a465936",
        "colab": {
          "base_uri": "https://localhost:8080/",
          "height": 50
        }
      },
      "source": [
        "eng_enc_input[0],ita_enc_outpt[0]"
      ],
      "execution_count": 0,
      "outputs": [
        {
          "output_type": "execute_result",
          "data": {
            "text/plain": [
              "(array([0., 0., 0., ..., 0., 0., 0.], dtype=float32),\n",
              " array([0., 0., 0., ..., 0., 0., 0.], dtype=float32))"
            ]
          },
          "metadata": {
            "tags": []
          },
          "execution_count": 114
        }
      ]
    },
    {
      "cell_type": "code",
      "metadata": {
        "id": "SfnPpFBFzihE",
        "colab_type": "code",
        "outputId": "a04932b8-905b-40d2-e496-261ea21d9975",
        "colab": {
          "base_uri": "https://localhost:8080/",
          "height": 34
        }
      },
      "source": [
        "ita_enc_input.shape, eng_enc_input.shape"
      ],
      "execution_count": 0,
      "outputs": [
        {
          "output_type": "execute_result",
          "data": {
            "text/plain": [
              "((32456, 3314), (34748, 2324))"
            ]
          },
          "metadata": {
            "tags": []
          },
          "execution_count": 115
        }
      ]
    },
    {
      "cell_type": "markdown",
      "metadata": {
        "id": "BbvQGj1W0fd3",
        "colab_type": "text"
      },
      "source": [
        "### Model skipgram"
      ]
    },
    {
      "cell_type": "code",
      "metadata": {
        "id": "VKHD8E7E0lng",
        "colab_type": "code",
        "colab": {}
      },
      "source": [
        "from tensorflow.keras import Sequential, Model\n",
        "from tensorflow.keras.layers import Input, Dense, BatchNormalization"
      ],
      "execution_count": 0,
      "outputs": []
    },
    {
      "cell_type": "markdown",
      "metadata": {
        "id": "0GUdra_iGz4R",
        "colab_type": "text"
      },
      "source": [
        "model made with functional-api"
      ]
    },
    {
      "cell_type": "code",
      "metadata": {
        "id": "oabgSUfh0kf0",
        "colab_type": "code",
        "colab": {}
      },
      "source": [
        "def create_model(enc_input, hidden_representation_dimension, enc_outpt):\n",
        "\n",
        "  # This returns a tensor\n",
        "  net_inputs = Input(shape=(enc_input.shape[1],))\n",
        "\n",
        "  # a layer instance is callable on a tensor, and returns a tensor\n",
        "  net_encode_layer = Dense(hidden_representation_dimension, activation='relu')(net_inputs)\n",
        "  net_encode_layer = BatchNormalization()(net_encode_layer)\n",
        "\n",
        "  net_decode_layer = Dense(enc_outpt.shape[1], activation='softmax')(net_encode_layer)\n",
        "\n",
        "  net_skipgram = Model(inputs=net_inputs, outputs=net_decode_layer)\n",
        "\n",
        "  # Create model\n",
        "  net_encoder = Model(inputs=net_inputs, outputs=net_encode_layer)\n",
        "\n",
        "  print('\\n'*3+'net_skipgram\\n')\n",
        "  net_skipgram.summary()\n",
        "\n",
        "  print('\\n'*3+'net_encoder\\n')\n",
        "  net_encoder.summary()\n",
        "\n",
        "  return net_encoder, net_skipgram"
      ],
      "execution_count": 0,
      "outputs": []
    },
    {
      "cell_type": "code",
      "metadata": {
        "id": "ou229HlwRF5f",
        "colab_type": "code",
        "colab": {}
      },
      "source": [
        "hidden_representation_dimension = 40"
      ],
      "execution_count": 0,
      "outputs": []
    },
    {
      "cell_type": "code",
      "metadata": {
        "id": "tuD7beWXRk2z",
        "colab_type": "code",
        "outputId": "1e6bc814-0ac8-4acc-cce5-6e3a3c880dff",
        "colab": {
          "base_uri": "https://localhost:8080/",
          "height": 689
        }
      },
      "source": [
        "ita_encoder, ita_skipgram = create_model(ita_enc_input, hidden_representation_dimension, ita_enc_outpt)"
      ],
      "execution_count": 0,
      "outputs": [
        {
          "output_type": "stream",
          "text": [
            "\n",
            "\n",
            "\n",
            "net_skipgram\n",
            "\n",
            "Model: \"model_4\"\n",
            "_________________________________________________________________\n",
            "Layer (type)                 Output Shape              Param #   \n",
            "=================================================================\n",
            "input_9 (InputLayer)         [(None, 3314)]            0         \n",
            "_________________________________________________________________\n",
            "dense_4 (Dense)              (None, 40)                132600    \n",
            "_________________________________________________________________\n",
            "batch_normalization_17 (Batc (None, 40)                160       \n",
            "_________________________________________________________________\n",
            "dense_5 (Dense)              (None, 3314)              135874    \n",
            "=================================================================\n",
            "Total params: 268,634\n",
            "Trainable params: 268,554\n",
            "Non-trainable params: 80\n",
            "_________________________________________________________________\n",
            "\n",
            "\n",
            "\n",
            "net_encoder\n",
            "\n",
            "Model: \"model_5\"\n",
            "_________________________________________________________________\n",
            "Layer (type)                 Output Shape              Param #   \n",
            "=================================================================\n",
            "input_9 (InputLayer)         [(None, 3314)]            0         \n",
            "_________________________________________________________________\n",
            "dense_4 (Dense)              (None, 40)                132600    \n",
            "_________________________________________________________________\n",
            "batch_normalization_17 (Batc (None, 40)                160       \n",
            "=================================================================\n",
            "Total params: 132,760\n",
            "Trainable params: 132,680\n",
            "Non-trainable params: 80\n",
            "_________________________________________________________________\n"
          ],
          "name": "stdout"
        }
      ]
    },
    {
      "cell_type": "code",
      "metadata": {
        "id": "h5xCHktaSGWL",
        "colab_type": "code",
        "outputId": "c4044841-96a1-408d-e2b9-9485b837f5f9",
        "colab": {
          "base_uri": "https://localhost:8080/",
          "height": 689
        }
      },
      "source": [
        "eng_encoder, eng_skipgram = create_model(eng_enc_input, hidden_representation_dimension, eng_enc_outpt)"
      ],
      "execution_count": 0,
      "outputs": [
        {
          "output_type": "stream",
          "text": [
            "\n",
            "\n",
            "\n",
            "net_skipgram\n",
            "\n",
            "Model: \"model_6\"\n",
            "_________________________________________________________________\n",
            "Layer (type)                 Output Shape              Param #   \n",
            "=================================================================\n",
            "input_10 (InputLayer)        [(None, 2324)]            0         \n",
            "_________________________________________________________________\n",
            "dense_6 (Dense)              (None, 40)                93000     \n",
            "_________________________________________________________________\n",
            "batch_normalization_18 (Batc (None, 40)                160       \n",
            "_________________________________________________________________\n",
            "dense_7 (Dense)              (None, 2324)              95284     \n",
            "=================================================================\n",
            "Total params: 188,444\n",
            "Trainable params: 188,364\n",
            "Non-trainable params: 80\n",
            "_________________________________________________________________\n",
            "\n",
            "\n",
            "\n",
            "net_encoder\n",
            "\n",
            "Model: \"model_7\"\n",
            "_________________________________________________________________\n",
            "Layer (type)                 Output Shape              Param #   \n",
            "=================================================================\n",
            "input_10 (InputLayer)        [(None, 2324)]            0         \n",
            "_________________________________________________________________\n",
            "dense_6 (Dense)              (None, 40)                93000     \n",
            "_________________________________________________________________\n",
            "batch_normalization_18 (Batc (None, 40)                160       \n",
            "=================================================================\n",
            "Total params: 93,160\n",
            "Trainable params: 93,080\n",
            "Non-trainable params: 80\n",
            "_________________________________________________________________\n"
          ],
          "name": "stdout"
        }
      ]
    },
    {
      "cell_type": "code",
      "metadata": {
        "id": "y8acU_SW2aW1",
        "colab_type": "code",
        "colab": {}
      },
      "source": [
        "ita_skipgram.compile(optimizer='adam',\n",
        "                    loss='categorical_crossentropy',\n",
        "                    metrics=['accuracy'])"
      ],
      "execution_count": 0,
      "outputs": []
    },
    {
      "cell_type": "code",
      "metadata": {
        "id": "pJfW9LyAST9F",
        "colab_type": "code",
        "colab": {}
      },
      "source": [
        "eng_skipgram.compile(optimizer='adam',\n",
        "                    loss='categorical_crossentropy',\n",
        "                    metrics=['accuracy'])"
      ],
      "execution_count": 0,
      "outputs": []
    },
    {
      "cell_type": "code",
      "metadata": {
        "id": "b0qMqddaRNYe",
        "colab_type": "code",
        "colab": {}
      },
      "source": [
        "num_train_epoch = 20"
      ],
      "execution_count": 0,
      "outputs": []
    },
    {
      "cell_type": "code",
      "metadata": {
        "id": "4NQ5ay-y29kG",
        "colab_type": "code",
        "outputId": "9a1c5207-651c-4f05-c6dc-814ce0d46baa",
        "colab": {
          "base_uri": "https://localhost:8080/",
          "height": 689
        }
      },
      "source": [
        "ita_history = ita_skipgram.fit(ita_enc_input, ita_enc_outpt, epochs=num_train_epoch,verbose=1)"
      ],
      "execution_count": 0,
      "outputs": [
        {
          "output_type": "stream",
          "text": [
            "Epoch 1/20\n",
            "1015/1015 [==============================] - 5s 5ms/step - loss: 6.8415 - accuracy: 0.0621\n",
            "Epoch 2/20\n",
            "1015/1015 [==============================] - 5s 5ms/step - loss: 6.0006 - accuracy: 0.0952\n",
            "Epoch 3/20\n",
            "1015/1015 [==============================] - 5s 5ms/step - loss: 5.5969 - accuracy: 0.1247\n",
            "Epoch 4/20\n",
            "1015/1015 [==============================] - 5s 5ms/step - loss: 5.2378 - accuracy: 0.1440\n",
            "Epoch 5/20\n",
            "1015/1015 [==============================] - 5s 5ms/step - loss: 4.9457 - accuracy: 0.1572\n",
            "Epoch 6/20\n",
            "1015/1015 [==============================] - 6s 6ms/step - loss: 4.7160 - accuracy: 0.1632\n",
            "Epoch 7/20\n",
            "1015/1015 [==============================] - 5s 5ms/step - loss: 4.5409 - accuracy: 0.1645\n",
            "Epoch 8/20\n",
            "1015/1015 [==============================] - 5s 5ms/step - loss: 4.4187 - accuracy: 0.1654\n",
            "Epoch 9/20\n",
            "1015/1015 [==============================] - 5s 5ms/step - loss: 4.3251 - accuracy: 0.1628\n",
            "Epoch 10/20\n",
            "1015/1015 [==============================] - 5s 5ms/step - loss: 4.2524 - accuracy: 0.1601\n",
            "Epoch 11/20\n",
            "1015/1015 [==============================] - 5s 5ms/step - loss: 4.1974 - accuracy: 0.1599\n",
            "Epoch 12/20\n",
            "1015/1015 [==============================] - 5s 5ms/step - loss: 4.1600 - accuracy: 0.1573\n",
            "Epoch 13/20\n",
            "1015/1015 [==============================] - 5s 5ms/step - loss: 4.1219 - accuracy: 0.1574\n",
            "Epoch 14/20\n",
            "1015/1015 [==============================] - 5s 5ms/step - loss: 4.0977 - accuracy: 0.1582\n",
            "Epoch 15/20\n",
            "1015/1015 [==============================] - 5s 5ms/step - loss: 4.0716 - accuracy: 0.1580\n",
            "Epoch 16/20\n",
            "1015/1015 [==============================] - 5s 5ms/step - loss: 4.0562 - accuracy: 0.1590\n",
            "Epoch 17/20\n",
            "1015/1015 [==============================] - 5s 5ms/step - loss: 4.0423 - accuracy: 0.1584\n",
            "Epoch 18/20\n",
            "1015/1015 [==============================] - 6s 5ms/step - loss: 4.0262 - accuracy: 0.1572\n",
            "Epoch 19/20\n",
            "1015/1015 [==============================] - 5s 5ms/step - loss: 4.0127 - accuracy: 0.1569\n",
            "Epoch 20/20\n",
            "1015/1015 [==============================] - 5s 5ms/step - loss: 4.0029 - accuracy: 0.1579\n"
          ],
          "name": "stdout"
        }
      ]
    },
    {
      "cell_type": "code",
      "metadata": {
        "id": "f0lE3VN5SZDH",
        "colab_type": "code",
        "outputId": "b7b3d701-9652-467d-d410-78fdbe30a2b9",
        "colab": {
          "base_uri": "https://localhost:8080/",
          "height": 689
        }
      },
      "source": [
        "eng_history = eng_skipgram.fit(eng_enc_input, eng_enc_outpt, epochs=num_train_epoch,verbose=1)"
      ],
      "execution_count": 0,
      "outputs": [
        {
          "output_type": "stream",
          "text": [
            "Epoch 1/20\n",
            "1086/1086 [==============================] - 4s 4ms/step - loss: 6.1861 - accuracy: 0.0925\n",
            "Epoch 2/20\n",
            "1086/1086 [==============================] - 4s 4ms/step - loss: 5.3433 - accuracy: 0.1313\n",
            "Epoch 3/20\n",
            "1086/1086 [==============================] - 4s 4ms/step - loss: 5.0193 - accuracy: 0.1484\n",
            "Epoch 4/20\n",
            "1086/1086 [==============================] - 4s 4ms/step - loss: 4.7777 - accuracy: 0.1570\n",
            "Epoch 5/20\n",
            "1086/1086 [==============================] - 4s 4ms/step - loss: 4.5976 - accuracy: 0.1621\n",
            "Epoch 6/20\n",
            "1086/1086 [==============================] - 4s 4ms/step - loss: 4.4620 - accuracy: 0.1648\n",
            "Epoch 7/20\n",
            "1086/1086 [==============================] - 4s 4ms/step - loss: 4.3626 - accuracy: 0.1612\n",
            "Epoch 8/20\n",
            "1086/1086 [==============================] - 4s 4ms/step - loss: 4.2867 - accuracy: 0.1604\n",
            "Epoch 9/20\n",
            "1086/1086 [==============================] - 4s 4ms/step - loss: 4.2308 - accuracy: 0.1595\n",
            "Epoch 10/20\n",
            "1086/1086 [==============================] - 4s 4ms/step - loss: 4.1901 - accuracy: 0.1608\n",
            "Epoch 11/20\n",
            "1086/1086 [==============================] - 4s 4ms/step - loss: 4.1572 - accuracy: 0.1566\n",
            "Epoch 12/20\n",
            "1086/1086 [==============================] - 4s 4ms/step - loss: 4.1248 - accuracy: 0.1584\n",
            "Epoch 13/20\n",
            "1086/1086 [==============================] - 4s 4ms/step - loss: 4.1073 - accuracy: 0.1547\n",
            "Epoch 14/20\n",
            "1086/1086 [==============================] - 4s 4ms/step - loss: 4.0882 - accuracy: 0.1575\n",
            "Epoch 15/20\n",
            "1086/1086 [==============================] - 4s 4ms/step - loss: 4.0768 - accuracy: 0.1586\n",
            "Epoch 16/20\n",
            "1086/1086 [==============================] - 4s 4ms/step - loss: 4.0628 - accuracy: 0.1570\n",
            "Epoch 17/20\n",
            "1086/1086 [==============================] - 4s 4ms/step - loss: 4.0523 - accuracy: 0.1564\n",
            "Epoch 18/20\n",
            "1086/1086 [==============================] - 4s 4ms/step - loss: 4.0347 - accuracy: 0.1581\n",
            "Epoch 19/20\n",
            "1086/1086 [==============================] - 4s 4ms/step - loss: 4.0296 - accuracy: 0.1558\n",
            "Epoch 20/20\n",
            "1086/1086 [==============================] - 4s 4ms/step - loss: 4.0179 - accuracy: 0.1578\n"
          ],
          "name": "stdout"
        }
      ]
    },
    {
      "cell_type": "markdown",
      "metadata": {
        "id": "d5_hN6ZYPih2",
        "colab_type": "text"
      },
      "source": [
        "### Plot loss"
      ]
    },
    {
      "cell_type": "code",
      "metadata": {
        "id": "Muac92I5C30G",
        "colab_type": "code",
        "outputId": "e221c321-9946-40e0-be14-e1afcdeeaa26",
        "colab": {
          "base_uri": "https://localhost:8080/",
          "height": 374
        }
      },
      "source": [
        "plt.figure(figsize=(15,6))\n",
        "\n",
        "ita_loss = ita_history.history['loss']\n",
        "plt.subplot(1,2,1)\n",
        "plt.plot(ita_loss)\n",
        "\n",
        "eng_loss = eng_history.history['loss']\n",
        "plt.subplot(1,2,2)\n",
        "plt.plot(eng_loss)\n",
        "\n",
        "plt.show()"
      ],
      "execution_count": 0,
      "outputs": [
        {
          "output_type": "display_data",
          "data": {
            "image/png": "[encoded data removed]",
            "text/plain": [
              "<Figure size 1080x432 with 2 Axes>"
            ]
          },
          "metadata": {
            "tags": [],
            "needs_background": "light"
          }
        }
      ]
    },
    {
      "cell_type": "code",
      "metadata": {
        "id": "mkRLwvgsC3yR",
        "colab_type": "code",
        "colab": {}
      },
      "source": [
        ""
      ],
      "execution_count": 0,
      "outputs": []
    },
    {
      "cell_type": "markdown",
      "metadata": {
        "id": "Q8mHUgcSF8tH",
        "colab_type": "text"
      },
      "source": [
        "## Trasformo le parole in word2vec"
      ]
    },
    {
      "cell_type": "code",
      "metadata": {
        "id": "IkjUcgWyGUfW",
        "colab_type": "code",
        "colab": {}
      },
      "source": [
        "def crea_diz_word2vec(encoder, distinct_words, diz_encoding):\n",
        "\n",
        "  diz_word2vec = {}\n",
        "\n",
        "  diz_word2vec['_'] = np.zeros(encoder.output.shape[1])\n",
        "\n",
        "  for parola in distinct_words:\n",
        "    diz_word2vec[parola] = encoder.predict(np.expand_dims(diz_encoding[parola], axis=0))[0]\n",
        "\n",
        "  return diz_word2vec"
      ],
      "execution_count": 0,
      "outputs": []
    },
    {
      "cell_type": "code",
      "metadata": {
        "id": "R4ibVvt_Twlb",
        "colab_type": "code",
        "colab": {}
      },
      "source": [
        "ita_diz_word2vec = crea_diz_word2vec(ita_encoder, ita_distinct_words, ita_diz_encoding)\n",
        "eng_diz_word2vec = crea_diz_word2vec(eng_encoder, eng_distinct_words, eng_diz_encoding)"
      ],
      "execution_count": 0,
      "outputs": []
    },
    {
      "cell_type": "markdown",
      "metadata": {
        "id": "WjfIK80IIj9a",
        "colab_type": "text"
      },
      "source": [
        "## padding delle parole"
      ]
    },
    {
      "cell_type": "code",
      "metadata": {
        "id": "jhv6P_2oIvaV",
        "colab_type": "code",
        "colab": {}
      },
      "source": [
        "def add_padding_to_seq(corpus, seq_max_len = 10):\n",
        "  \n",
        "  padded_corpus = []\n",
        "\n",
        "  for testo in corpus:\n",
        "    testo = testo.split(' ')\n",
        "\n",
        "    if len(testo)>seq_max_len:\n",
        "      testo = testo[-seq_max_len:]\n",
        "\n",
        "    testo = testo+['_' for x in range(seq_max_len-len(testo))]\n",
        "\n",
        "    padded_corpus.append(testo)\n",
        "\n",
        "  return padded_corpus"
      ],
      "execution_count": 0,
      "outputs": []
    },
    {
      "cell_type": "code",
      "metadata": {
        "id": "BRpU6y8SI1j5",
        "colab_type": "code",
        "colab": {}
      },
      "source": [
        "def dense_encode_padded_sequence(padded_seq, diz_word2vec):\n",
        "\n",
        "  pad_seq = []\n",
        "\n",
        "  for testo in padded_seq:\n",
        "    x = []\n",
        "    for parola in testo:\n",
        "      x.append(diz_word2vec[parola])\n",
        "    \n",
        "    pad_seq.append(x)\n",
        "  \n",
        "  return np.asarray(pad_seq)"
      ],
      "execution_count": 0,
      "outputs": []
    },
    {
      "cell_type": "code",
      "metadata": {
        "id": "JuH19kPPPIQD",
        "colab_type": "code",
        "colab": {}
      },
      "source": [
        "def prepare_input(txt, diz_word2vec, seq_max_length=10):\n",
        "\n",
        "  txt_padded = add_padding_to_seq(txt, seq_max_length)\n",
        "  txt_padded = dense_encode_padded_sequence(txt_padded,diz_word2vec)\n",
        "  \n",
        "  return txt_padded"
      ],
      "execution_count": 0,
      "outputs": []
    },
    {
      "cell_type": "code",
      "metadata": {
        "id": "3fXPXQ9CNHsX",
        "colab_type": "code",
        "outputId": "44003bb2-d8b3-4d20-aacc-e55074dddbef",
        "colab": {
          "base_uri": "https://localhost:8080/",
          "height": 34
        }
      },
      "source": [
        "len(ita_diz_word2vec['sono'])"
      ],
      "execution_count": 0,
      "outputs": [
        {
          "output_type": "execute_result",
          "data": {
            "text/plain": [
              "40"
            ]
          },
          "metadata": {
            "tags": []
          },
          "execution_count": 132
        }
      ]
    },
    {
      "cell_type": "code",
      "metadata": {
        "id": "KRjkz5X1OGqa",
        "colab_type": "code",
        "colab": {}
      },
      "source": [
        "seq_max_length = 8\n",
        "\n",
        "ita_txt_padded = prepare_input(ita_txt, ita_diz_word2vec, seq_max_length)\n",
        "eng_txt_padded = prepare_input(eng_txt, eng_diz_word2vec, seq_max_length)"
      ],
      "execution_count": 0,
      "outputs": []
    },
    {
      "cell_type": "code",
      "metadata": {
        "id": "Zjd25Q2WOVsR",
        "colab_type": "code",
        "outputId": "13849066-616d-4a18-d06f-8ce26778cf30",
        "colab": {
          "base_uri": "https://localhost:8080/",
          "height": 34
        }
      },
      "source": [
        "np.shape(eng_txt_padded), np.shape(eng_txt_padded)[-2:]"
      ],
      "execution_count": 0,
      "outputs": [
        {
          "output_type": "execute_result",
          "data": {
            "text/plain": [
              "((3106, 8, 40), (8, 40))"
            ]
          },
          "metadata": {
            "tags": []
          },
          "execution_count": 134
        }
      ]
    },
    {
      "cell_type": "markdown",
      "metadata": {
        "id": "GV1uknwLUSVU",
        "colab_type": "text"
      },
      "source": [
        "## Translation model"
      ]
    },
    {
      "cell_type": "code",
      "metadata": {
        "id": "uFyTzq46kO5C",
        "colab_type": "code",
        "colab": {}
      },
      "source": [
        ""
      ],
      "execution_count": 0,
      "outputs": []
    },
    {
      "cell_type": "code",
      "metadata": {
        "id": "LswST1SgkO3_",
        "colab_type": "code",
        "colab": {}
      },
      "source": [
        "# from keras.models import Model\n",
        "# from keras.layers import Input, LSTM, Dense\n",
        "\n",
        "# # Define an input sequence and process it.\n",
        "# encoder_inputs = Input(shape=(None, num_encoder_tokens))\n",
        "# encoder = LSTM(latent_dim, return_state=True)\n",
        "# encoder_outputs, state_h, state_c = encoder(encoder_inputs)\n",
        "\n",
        "# # We discard `encoder_outputs` and only keep the states.\n",
        "# encoder_states = [state_h, state_c]\n",
        "\n",
        "# # Set up the decoder, using `encoder_states` as initial state.\n",
        "# decoder_inputs = Input(shape=(None, num_decoder_tokens))\n",
        "\n",
        "# # We set up our decoder to return full output sequences,\n",
        "# # and to return internal states as well. We don't use the \n",
        "# # return states in the training model, but we will use them in inference.\n",
        "# decoder_lstm = LSTM(latent_dim, return_sequences=True, return_state=True)\n",
        "# decoder_outputs, _, _ = decoder_lstm(decoder_inputs,\n",
        "#                                      initial_state=encoder_states)\n",
        "\n",
        "# decoder_dense = Dense(num_decoder_tokens, activation='softmax')\n",
        "# decoder_outputs = decoder_dense(decoder_outputs)\n",
        "\n",
        "# # Define the model that will turn\n",
        "# # `encoder_input_data` & `decoder_input_data` into `decoder_target_data`\n",
        "# model = Model([encoder_inputs, decoder_inputs], decoder_outputs)"
      ],
      "execution_count": 0,
      "outputs": []
    },
    {
      "cell_type": "code",
      "metadata": {
        "id": "kSrvIj5hkT5F",
        "colab_type": "code",
        "colab": {}
      },
      "source": [
        "# model.compile(optimizer='rmsprop', loss='categorical_crossentropy')\n",
        "# model.fit([encoder_input_data, decoder_input_data], decoder_target_data,\n",
        "#           batch_size=batch_size,\n",
        "#           epochs=epochs,\n",
        "#           validation_split=0.2)"
      ],
      "execution_count": 0,
      "outputs": []
    },
    {
      "cell_type": "code",
      "metadata": {
        "id": "rdwEGbCC__Z3",
        "colab_type": "code",
        "colab": {}
      },
      "source": [
        ""
      ],
      "execution_count": 0,
      "outputs": []
    },
    {
      "cell_type": "code",
      "metadata": {
        "id": "kW5Q42g-__cf",
        "colab_type": "code",
        "colab": {}
      },
      "source": [
        ""
      ],
      "execution_count": 0,
      "outputs": []
    },
    {
      "cell_type": "code",
      "metadata": {
        "id": "tdKqB9E6kO0w",
        "colab_type": "code",
        "colab": {}
      },
      "source": [
        "n_units_ = 200\n",
        "from tensorflow.keras.models import Model\n",
        "from tensorflow.keras.layers import Input, LSTM, Dense"
      ],
      "execution_count": 0,
      "outputs": []
    },
    {
      "cell_type": "code",
      "metadata": {
        "id": "uRr5HiPv1qzU",
        "colab_type": "code",
        "colab": {}
      },
      "source": [
        "trans_net = Sequential()\n",
        "\n",
        "trans_net.add(Input(shape=(np.shape(ita_txt_padded)[-2:])))\n",
        "\n",
        "trans_net.add(LSTM(n_units, return_sequences=True, activation='linear'))\n",
        "trans_net.add(BatchNormalization())\n",
        "\n",
        "trans_net.add(LSTM(n_units, return_sequences=True, activation='linear'))\n",
        "trans_net.add(BatchNormalization())\n",
        "\n",
        "trans_net.add(LSTM(np.shape(eng_txt_padded)[-1], return_sequences=True, activation='linear'))\n",
        "trans_net.add(BatchNormalization())\n",
        "\n",
        "trans_net.add(LSTM(np.shape(eng_txt_padded)[-1], return_sequences=True, activation='linear'))\n",
        "#trans_net.add(BatchNormalization())"
      ],
      "execution_count": 0,
      "outputs": []
    },
    {
      "cell_type": "code",
      "metadata": {
        "id": "CzDfuYF51w-g",
        "colab_type": "code",
        "colab": {}
      },
      "source": [
        ""
      ],
      "execution_count": 0,
      "outputs": []
    },
    {
      "cell_type": "code",
      "metadata": {
        "id": "Amu_gDLH1q3z",
        "colab_type": "code",
        "outputId": "5f71d28d-e0f4-48e6-f945-40fa52940a89",
        "colab": {
          "base_uri": "https://localhost:8080/",
          "height": 386
        }
      },
      "source": [
        "trans_net.summary()"
      ],
      "execution_count": 0,
      "outputs": [
        {
          "output_type": "stream",
          "text": [
            "Model: \"sequential_6\"\n",
            "_________________________________________________________________\n",
            "Layer (type)                 Output Shape              Param #   \n",
            "=================================================================\n",
            "lstm_17 (LSTM)               (None, 8, 200)            192800    \n",
            "_________________________________________________________________\n",
            "batch_normalization_19 (Batc (None, 8, 200)            800       \n",
            "_________________________________________________________________\n",
            "lstm_18 (LSTM)               (None, 8, 200)            320800    \n",
            "_________________________________________________________________\n",
            "batch_normalization_20 (Batc (None, 8, 200)            800       \n",
            "_________________________________________________________________\n",
            "lstm_19 (LSTM)               (None, 8, 40)             38560     \n",
            "_________________________________________________________________\n",
            "batch_normalization_21 (Batc (None, 8, 40)             160       \n",
            "_________________________________________________________________\n",
            "lstm_20 (LSTM)               (None, 8, 40)             12960     \n",
            "=================================================================\n",
            "Total params: 566,880\n",
            "Trainable params: 566,000\n",
            "Non-trainable params: 880\n",
            "_________________________________________________________________\n"
          ],
          "name": "stdout"
        }
      ]
    },
    {
      "cell_type": "code",
      "metadata": {
        "id": "tC_EeKm01q2M",
        "colab_type": "code",
        "colab": {}
      },
      "source": [
        ""
      ],
      "execution_count": 0,
      "outputs": []
    },
    {
      "cell_type": "code",
      "metadata": {
        "id": "J1xpa51E2xDz",
        "colab_type": "code",
        "colab": {}
      },
      "source": [
        "from tensorflow.keras import callbacks"
      ],
      "execution_count": 0,
      "outputs": []
    },
    {
      "cell_type": "code",
      "metadata": {
        "id": "kVnO9XJi2xGw",
        "colab_type": "code",
        "colab": {}
      },
      "source": [
        "NoLearning = callbacks.EarlyStopping(monitor='loss',\n",
        "                                     min_delta=0.003,\n",
        "                                     patience=5,\n",
        "                                     verbose=1,\n",
        "                                     mode='auto',\n",
        "                                     baseline=None,\n",
        "                                     restore_best_weights=False)"
      ],
      "execution_count": 0,
      "outputs": []
    },
    {
      "cell_type": "code",
      "metadata": {
        "id": "cjaQj0pGVIey",
        "colab_type": "code",
        "colab": {}
      },
      "source": [
        "trans_net.compile(optimizer='adam',\n",
        "                    loss='mean_squared_error',\n",
        "                    metrics=['mse'])"
      ],
      "execution_count": 0,
      "outputs": []
    },
    {
      "cell_type": "code",
      "metadata": {
        "id": "adi2-qhk08mj",
        "colab_type": "code",
        "colab": {}
      },
      "source": [
        "trans_net_epoch = 800"
      ],
      "execution_count": 0,
      "outputs": []
    },
    {
      "cell_type": "code",
      "metadata": {
        "id": "lb2heUDCVq7l",
        "colab_type": "code",
        "outputId": "96a09810-729c-4b2c-bb0a-3ceb9af01ca0",
        "colab": {
          "base_uri": "https://localhost:8080/",
          "height": 1000
        }
      },
      "source": [
        "trans_net_hist = trans_net.fit(ita_txt_padded, eng_txt_padded, \n",
        "                               epochs=trans_net_epoch, \n",
        "                               verbose=1,\n",
        "                               callbacks=[NoLearning])"
      ],
      "execution_count": 0,
      "outputs": [
        {
          "output_type": "stream",
          "text": [
            "Epoch 1/800\n",
            "98/98 [==============================] - 4s 39ms/step - loss: 2.4025 - mse: 2.4038\n",
            "Epoch 2/800\n",
            "98/98 [==============================] - 4s 38ms/step - loss: 2.2651 - mse: 2.2618\n",
            "Epoch 3/800\n",
            "98/98 [==============================] - 4s 43ms/step - loss: 2.1874 - mse: 2.1845\n",
            "Epoch 4/800\n",
            "98/98 [==============================] - 5s 46ms/step - loss: 2.1327 - mse: 2.1282\n",
            "Epoch 5/800\n",
            "98/98 [==============================] - 4s 43ms/step - loss: 2.0784 - mse: 2.0770\n",
            "Epoch 6/800\n",
            "98/98 [==============================] - 4s 38ms/step - loss: 2.0252 - mse: 2.0274\n",
            "Epoch 7/800\n",
            "98/98 [==============================] - 4s 38ms/step - loss: 1.9697 - mse: 1.9714\n",
            "Epoch 8/800\n",
            "98/98 [==============================] - 4s 38ms/step - loss: 1.9235 - mse: 1.9240\n",
            "Epoch 9/800\n",
            "98/98 [==============================] - 4s 38ms/step - loss: 1.8697 - mse: 1.8635\n",
            "Epoch 10/800\n",
            "98/98 [==============================] - 4s 38ms/step - loss: 1.8166 - mse: 1.8122\n",
            "Epoch 11/800\n",
            "98/98 [==============================] - 4s 38ms/step - loss: 1.7695 - mse: 1.7645\n",
            "Epoch 12/800\n",
            "98/98 [==============================] - 4s 38ms/step - loss: 1.7047 - mse: 1.6996\n",
            "Epoch 13/800\n",
            "98/98 [==============================] - 4s 39ms/step - loss: 1.6543 - mse: 1.6496\n",
            "Epoch 14/800\n",
            "98/98 [==============================] - 4s 38ms/step - loss: 1.6030 - mse: 1.5958\n",
            "Epoch 15/800\n",
            "98/98 [==============================] - 4s 39ms/step - loss: 1.5568 - mse: 1.5580\n",
            "Epoch 16/800\n",
            "98/98 [==============================] - 4s 39ms/step - loss: 1.5156 - mse: 1.5134\n",
            "Epoch 17/800\n",
            "98/98 [==============================] - 4s 38ms/step - loss: 1.4778 - mse: 1.4747\n",
            "Epoch 18/800\n",
            "98/98 [==============================] - 4s 38ms/step - loss: 1.4498 - mse: 1.4415\n",
            "Epoch 19/800\n",
            "98/98 [==============================] - 4s 38ms/step - loss: 1.4197 - mse: 1.4139\n",
            "Epoch 20/800\n",
            "98/98 [==============================] - 4s 38ms/step - loss: 1.3785 - mse: 1.3732\n",
            "Epoch 21/800\n",
            "98/98 [==============================] - 4s 38ms/step - loss: 1.3410 - mse: 1.3346\n",
            "Epoch 22/800\n",
            "98/98 [==============================] - 4s 38ms/step - loss: 1.3191 - mse: 1.3124\n",
            "Epoch 23/800\n",
            "98/98 [==============================] - 4s 38ms/step - loss: 1.2887 - mse: 1.2833\n",
            "Epoch 24/800\n",
            "98/98 [==============================] - 4s 38ms/step - loss: 1.2691 - mse: 1.2629\n",
            "Epoch 25/800\n",
            "98/98 [==============================] - 4s 38ms/step - loss: 1.2460 - mse: 1.2428\n",
            "Epoch 26/800\n",
            "98/98 [==============================] - 4s 38ms/step - loss: 1.2345 - mse: 1.2277\n",
            "Epoch 27/800\n",
            "98/98 [==============================] - 4s 38ms/step - loss: 1.2164 - mse: 1.2136\n",
            "Epoch 28/800\n",
            "98/98 [==============================] - 4s 38ms/step - loss: 1.1856 - mse: 1.1806\n",
            "Epoch 29/800\n",
            "98/98 [==============================] - 4s 38ms/step - loss: 1.1657 - mse: 1.1589\n",
            "Epoch 30/800\n",
            "98/98 [==============================] - 4s 38ms/step - loss: 1.1588 - mse: 1.1530\n",
            "Epoch 31/800\n",
            "98/98 [==============================] - 4s 38ms/step - loss: 1.1533 - mse: 1.1508\n",
            "Epoch 32/800\n",
            "98/98 [==============================] - 4s 38ms/step - loss: 1.1396 - mse: 1.1245\n",
            "Epoch 33/800\n",
            "98/98 [==============================] - 4s 38ms/step - loss: 1.1312 - mse: 1.1222\n",
            "Epoch 34/800\n",
            "98/98 [==============================] - 4s 38ms/step - loss: 1.1020 - mse: 1.0993\n",
            "Epoch 35/800\n",
            "98/98 [==============================] - 4s 38ms/step - loss: 1.0887 - mse: 1.0829\n",
            "Epoch 36/800\n",
            "98/98 [==============================] - 4s 38ms/step - loss: 1.0755 - mse: 1.0690\n",
            "Epoch 37/800\n",
            "98/98 [==============================] - 4s 38ms/step - loss: 1.0645 - mse: 1.0601\n",
            "Epoch 38/800\n",
            "98/98 [==============================] - 4s 38ms/step - loss: 1.0661 - mse: 1.0570\n",
            "Epoch 39/800\n",
            "98/98 [==============================] - 4s 38ms/step - loss: 1.0594 - mse: 1.0531\n",
            "Epoch 40/800\n",
            "98/98 [==============================] - 4s 38ms/step - loss: 1.0571 - mse: 1.0483\n",
            "Epoch 41/800\n",
            "98/98 [==============================] - 4s 38ms/step - loss: 1.0546 - mse: 1.0430\n",
            "Epoch 42/800\n",
            "98/98 [==============================] - 4s 38ms/step - loss: 1.0397 - mse: 1.0355\n",
            "Epoch 43/800\n",
            "98/98 [==============================] - 4s 38ms/step - loss: 1.0132 - mse: 1.0101\n",
            "Epoch 44/800\n",
            "98/98 [==============================] - 4s 38ms/step - loss: 0.9970 - mse: 0.9892\n",
            "Epoch 45/800\n",
            "98/98 [==============================] - 4s 38ms/step - loss: 1.0073 - mse: 0.9970\n",
            "Epoch 46/800\n",
            "98/98 [==============================] - 4s 38ms/step - loss: 0.9830 - mse: 0.9796\n",
            "Epoch 47/800\n",
            "98/98 [==============================] - 4s 38ms/step - loss: 0.9658 - mse: 0.9654\n",
            "Epoch 48/800\n",
            "98/98 [==============================] - 4s 38ms/step - loss: 0.9804 - mse: 0.9701\n",
            "Epoch 49/800\n",
            "98/98 [==============================] - 4s 38ms/step - loss: 0.9859 - mse: 0.9802\n",
            "Epoch 50/800\n",
            "98/98 [==============================] - 4s 38ms/step - loss: 0.9677 - mse: 0.9616\n",
            "Epoch 51/800\n",
            "98/98 [==============================] - 4s 38ms/step - loss: 0.9508 - mse: 0.9383\n",
            "Epoch 52/800\n",
            "98/98 [==============================] - 4s 38ms/step - loss: 0.9442 - mse: 0.9372\n",
            "Epoch 53/800\n",
            "98/98 [==============================] - 4s 38ms/step - loss: 0.9341 - mse: 0.9280\n",
            "Epoch 54/800\n",
            "98/98 [==============================] - 4s 39ms/step - loss: 0.9347 - mse: 0.9225\n",
            "Epoch 55/800\n",
            "98/98 [==============================] - 4s 41ms/step - loss: 0.9385 - mse: 0.9218\n",
            "Epoch 56/800\n",
            "98/98 [==============================] - 4s 38ms/step - loss: 0.9324 - mse: 0.9278\n",
            "Epoch 57/800\n",
            "98/98 [==============================] - 4s 38ms/step - loss: 0.9169 - mse: 0.9122\n",
            "Epoch 58/800\n",
            "98/98 [==============================] - 4s 38ms/step - loss: 0.9092 - mse: 0.9054\n",
            "Epoch 59/800\n",
            "98/98 [==============================] - 4s 38ms/step - loss: 0.9018 - mse: 0.9006\n",
            "Epoch 60/800\n",
            "98/98 [==============================] - 4s 38ms/step - loss: 0.8923 - mse: 0.8783\n",
            "Epoch 61/800\n",
            "98/98 [==============================] - 4s 38ms/step - loss: 0.8982 - mse: 0.8916\n",
            "Epoch 62/800\n",
            "98/98 [==============================] - 4s 38ms/step - loss: 0.8985 - mse: 0.8898\n",
            "Epoch 63/800\n",
            "98/98 [==============================] - 4s 38ms/step - loss: 0.8941 - mse: 0.8802\n",
            "Epoch 64/800\n",
            "98/98 [==============================] - 4s 38ms/step - loss: 0.9035 - mse: 0.8939\n",
            "Epoch 65/800\n",
            "98/98 [==============================] - 4s 38ms/step - loss: 0.8871 - mse: 0.8807\n",
            "Epoch 66/800\n",
            "98/98 [==============================] - 4s 38ms/step - loss: 0.8781 - mse: 0.8677\n",
            "Epoch 67/800\n",
            "98/98 [==============================] - 4s 38ms/step - loss: 0.8816 - mse: 0.8736\n",
            "Epoch 68/800\n",
            "98/98 [==============================] - 4s 38ms/step - loss: 0.8691 - mse: 0.8649\n",
            "Epoch 69/800\n",
            "98/98 [==============================] - 4s 38ms/step - loss: 0.8664 - mse: 0.8647\n",
            "Epoch 70/800\n",
            "98/98 [==============================] - 4s 38ms/step - loss: 0.8548 - mse: 0.8489\n",
            "Epoch 71/800\n",
            "98/98 [==============================] - 4s 38ms/step - loss: 0.8406 - mse: 0.8380\n",
            "Epoch 72/800\n",
            "98/98 [==============================] - 4s 40ms/step - loss: 0.8395 - mse: 0.8375\n",
            "Epoch 73/800\n",
            "98/98 [==============================] - 4s 40ms/step - loss: 0.8476 - mse: 0.8328\n",
            "Epoch 74/800\n",
            "98/98 [==============================] - 4s 39ms/step - loss: 0.8618 - mse: 0.8524\n",
            "Epoch 75/800\n",
            "98/98 [==============================] - 4s 38ms/step - loss: 0.8523 - mse: 0.8470\n",
            "Epoch 76/800\n",
            "98/98 [==============================] - 4s 38ms/step - loss: 0.8309 - mse: 0.8229\n",
            "Epoch 77/800\n",
            "98/98 [==============================] - 4s 38ms/step - loss: 0.8297 - mse: 0.8262\n",
            "Epoch 78/800\n",
            "98/98 [==============================] - 4s 38ms/step - loss: 0.8297 - mse: 0.8145\n",
            "Epoch 79/800\n",
            "98/98 [==============================] - 4s 38ms/step - loss: 0.8490 - mse: 0.8481\n",
            "Epoch 80/800\n",
            "98/98 [==============================] - 4s 38ms/step - loss: 0.8291 - mse: 0.8248\n",
            "Epoch 81/800\n",
            "98/98 [==============================] - 4s 38ms/step - loss: 0.8309 - mse: 0.8166\n",
            "Epoch 00081: early stopping\n"
          ],
          "name": "stdout"
        }
      ]
    },
    {
      "cell_type": "code",
      "metadata": {
        "id": "wWybtDEDVxO4",
        "colab_type": "code",
        "outputId": "4f885271-4596-43a9-da41-1dda5901ae4a",
        "colab": {
          "base_uri": "https://localhost:8080/",
          "height": 265
        }
      },
      "source": [
        "plt.plot(trans_net_hist.history['loss'])\n",
        "plt.show()"
      ],
      "execution_count": 0,
      "outputs": [
        {
          "output_type": "display_data",
          "data": {
            "image/png": "[encoded data removed]",
            "text/plain": [
              "<Figure size 432x288 with 1 Axes>"
            ]
          },
          "metadata": {
            "tags": [],
            "needs_background": "light"
          }
        }
      ]
    },
    {
      "cell_type": "code",
      "metadata": {
        "id": "qLPKmqvDW2pz",
        "colab_type": "code",
        "colab": {}
      },
      "source": [
        ""
      ],
      "execution_count": 0,
      "outputs": []
    },
    {
      "cell_type": "markdown",
      "metadata": {
        "id": "FJUmtmUcW2_H",
        "colab_type": "text"
      },
      "source": [
        "## Try to predict new text"
      ]
    },
    {
      "cell_type": "code",
      "metadata": {
        "id": "CPZW4GRB-jmt",
        "colab_type": "code",
        "outputId": "c8ac67d9-88b8-45eb-df4e-56178fa322ec",
        "colab": {
          "base_uri": "https://localhost:8080/",
          "height": 252
        }
      },
      "source": [
        "ita_distinct_words[::40]"
      ],
      "execution_count": 0,
      "outputs": [
        {
          "output_type": "execute_result",
          "data": {
            "text/plain": [
              "array(['', 'abituata', 'agente', 'allinsegnante', 'andando', 'apertura',\n",
              "       'ascoltavo', 'attenzione', 'avevi', 'bambino', 'bianco', 'buono.',\n",
              "       'cantante', 'casa,', 'chiamata', 'cinema', 'cominciamo',\n",
              "       'confrontò', 'convegno', 'crede', 'dal', 'decollato', 'dica',\n",
              "       'dirlo', 'diversa', 'dormì', 'effettuerà', 'estraneo', 'farina',\n",
              "       'fidarci', 'force', 'funziona', 'giardino', 'grammatica,',\n",
              "       'hockey,', 'importi', 'inglese', 'interruppe', 'lana', 'lavoravo',\n",
              "       'lidea', 'lunga', 'mangiò', 'mentito', 'minuti', 'museo', 'nera',\n",
              "       'occhiali', 'oro', 'parlando', 'passi', 'pere', 'piaciuto', 'più',\n",
              "       'posti', 'prendendo', 'previsti', 'pronto', 'puntualità', 'questa',\n",
              "       'regali', 'ridere', 'ripetuto', 'riviste', 'sapeva', 'scese',\n",
              "       'scuso', 'sensi', 'siamo', 'sole', 'specie', 'sprecato', 'sto',\n",
              "       'sulla', 'tanto', 'test', 'tradirei', 'trovarvi', 'unauto',\n",
              "       'valigia', 'vengo', 'viene,', 'volevi'], dtype='<U17')"
            ]
          },
          "metadata": {
            "tags": []
          },
          "execution_count": 146
        }
      ]
    },
    {
      "cell_type": "code",
      "metadata": {
        "id": "LFTbipqQXGCU",
        "colab_type": "code",
        "outputId": "446050af-c91f-4eea-c0ee-31360cd47dc9",
        "colab": {
          "base_uri": "https://localhost:8080/",
          "height": 67
        }
      },
      "source": [
        "num_sentence= 3013\n",
        "ita_txt[num_sentence:num_sentence+2], eng_txt[num_sentence]"
      ],
      "execution_count": 0,
      "outputs": [
        {
          "output_type": "execute_result",
          "data": {
            "text/plain": [
              "(['la povertà ancora la principale causa del crimine',\n",
              "  'lo interruppe mentre stava parlando'],\n",
              " 'poverty is still the major cause of crime')"
            ]
          },
          "metadata": {
            "tags": []
          },
          "execution_count": 147
        }
      ]
    },
    {
      "cell_type": "code",
      "metadata": {
        "id": "AZiH5UK7aTQI",
        "colab_type": "code",
        "outputId": "eaadb41f-c7c7-48da-b561-ed1c1ca7aeba",
        "colab": {
          "base_uri": "https://localhost:8080/",
          "height": 34
        }
      },
      "source": [
        "len(ita_txt)"
      ],
      "execution_count": 0,
      "outputs": [
        {
          "output_type": "execute_result",
          "data": {
            "text/plain": [
              "3106"
            ]
          },
          "metadata": {
            "tags": []
          },
          "execution_count": 148
        }
      ]
    },
    {
      "cell_type": "code",
      "metadata": {
        "id": "ZB5qeQqSZ9W0",
        "colab_type": "code",
        "colab": {}
      },
      "source": [
        "rand_sent = np.random.randint(len(ita_txt), size=10)"
      ],
      "execution_count": 0,
      "outputs": []
    },
    {
      "cell_type": "code",
      "metadata": {
        "id": "ceTvAf9TWU9G",
        "colab_type": "code",
        "outputId": "428f2417-51b3-46a6-9a7c-da369a460a36",
        "colab": {
          "base_uri": "https://localhost:8080/",
          "height": 524
        }
      },
      "source": [
        "traduzione = []\n",
        "\n",
        "num_sentence = 100\n",
        "\n",
        "ita_samples = ita_txt[30:300:10]\n",
        "eng_samples = eng_txt[30:300:10]\n",
        "\n",
        "frase_ita_padded = prepare_input(ita_samples, ita_diz_word2vec)\n",
        "frase_ita_predicted = trans_net.predict(frase_ita_padded)\n",
        "\n",
        "for frase_ita in frase_ita_predicted:\n",
        "\n",
        "  x = []\n",
        "\n",
        "  for parola in frase_ita:    \n",
        "\n",
        "    parola_decodificata = []\n",
        "    distanza = np.zeros(len(eng_diz_word2vec))\n",
        "\n",
        "    for idx, parola_target in enumerate(eng_diz_word2vec):\n",
        "\n",
        "      distanza[idx] = np.linalg.norm(parola - eng_diz_word2vec[parola_target])\n",
        "      parola_decodificata.append(parola_target)\n",
        "  \n",
        "    x.append(parola_decodificata[np.argmin(distanza)])\n",
        "\n",
        "  traduzione.append((' ').join(x))\n",
        "\n",
        "print('--ITA--'+' / '+'--ENG--'+' / '+'--Trad--')\n",
        "for frase_ita,frase_eng,frase_trad in zip(ita_samples,eng_samples,traduzione):\n",
        "  print(frase_ita+' / '+frase_eng+' / '+frase_trad)"
      ],
      "execution_count": 0,
      "outputs": [
        {
          "output_type": "stream",
          "text": [
            "WARNING:tensorflow:Model was constructed with shape (None, 8, 40) for input Tensor(\"input_11:0\", shape=(None, 8, 40), dtype=float32), but it was called on an input with incompatible shape (None, 10, 40).\n",
            "--ITA-- / --ENG-- / --Trad--\n",
            "io so andare a cavallo / i can ride a horse / i know ride a horse _ _ _ _ _\n",
            "so quello che so / i know what i know / i know what i know _ _ _ _ _\n",
            "solamente tom può farlo / only tom can do it / _ tom can do it _ _ _ _ _\n",
            "hai un motto / do you have a motto / do you have a pet _ _ _ _ _\n",
            "mangiai un pranzo rapido / i ate a quick lunch / i ate a quick lunch _ _ _ _ _\n",
            "io abitavo qui / i used to live here / i used to moved here _ _ _ _ _\n",
            "mi fece sentire male / it made me feel bad / _ _ me feel bad _ _ _ _ _\n",
            "quello che diciamo vero / what we say is true / _ _ say is true _ _ _ _ _\n",
            "lei lavora con tom / do you work with tom / _ _ work with tom _ _ _ _ _\n",
            "non indossa mai una cravatta / he never wears a tie / _ never wears a tie _ _ _ _ _\n",
            "io spero che andrà bene / i hope itll be fine / i hope _ be fine _ _ _ _ _\n",
            "penso che tom mi ami / i think tom loves me / i think tom told me _ _ _ _ _\n",
            "io cercherò di essere rapida / ill try to be quick / i marry to be quick _ _ _ _ _\n",
            "adesso mi dia le chiavi / now give me the keys / _ give me the keys _ _ _ _ _\n",
            "non vogliamo morire / we dont want to die / _ dont want to die _ _ _ _ _\n",
            "andrete in treno / will you go by train / will you go by train _ _ _ _ _\n",
            "non essere così critica / do not be so critical / _ not be so critical _ _ _ _ _\n",
            "voi avete già visto tom / have you seen tom yet / _ you seen tom yet _ _ _ _ _\n",
            "sto lavando i piatti / i am doing the dishes / im am doing the dishes _ _ _ _ _\n",
            "io non ti voglio qui / i dont want you here / i _ want you here _ _ _ _ _\n",
            "a me serve il tuo aiuto, tom / i need your help, tom / _ _ your help, tom _ _ _ _ _\n",
            "mi fa piacere che tom se ne sia andato / im glad tom has gone / _ _ i did _ _ _ _ _ _\n",
            "proviamoci / lets have a go at it / lets have a go at it _ _ _ _\n",
            "il lago profondo qui / the lake is deep here / the lake is deep here _ _ _ _ _\n",
            "tom ha detto che non arrabbiato / tom said he isnt mad / tom wasted _ _ _ _ _ _ _ _\n",
            "noi non andiamo mai in chiesa / we never go to church / we dont go to church _ _ _ _ _\n",
            "perch non ci sediamo / why dont we sit down / why dont you sit down _ _ _ _ _\n"
          ],
          "name": "stdout"
        }
      ]
    },
    {
      "cell_type": "markdown",
      "metadata": {
        "id": "DrPAgfBJZmXO",
        "colab_type": "text"
      },
      "source": [
        "## Prova su nuovo testo"
      ]
    },
    {
      "cell_type": "code",
      "metadata": {
        "id": "6yOPXxBRWkMD",
        "colab_type": "code",
        "colab": {}
      },
      "source": [
        "new_txt = ['ci sediamo in chiesa']\n",
        "\n",
        "new_txt_padded = prepare_input(new_txt, ita_diz_word2vec, seq_max_length)\n",
        "new_predicted = trans_net.predict(new_txt_padded)"
      ],
      "execution_count": 0,
      "outputs": []
    },
    {
      "cell_type": "markdown",
      "metadata": {
        "id": "if5524wDXWLN",
        "colab_type": "text"
      },
      "source": [
        "## find most similar word"
      ]
    },
    {
      "cell_type": "code",
      "metadata": {
        "id": "xjdWP7AtXbN_",
        "colab_type": "code",
        "outputId": "d19330b5-50d9-468f-b26e-a5c79d938894",
        "colab": {
          "base_uri": "https://localhost:8080/",
          "height": 34
        }
      },
      "source": [
        "traduzione = []\n",
        "for frase in new_predicted:\n",
        "\n",
        "  x = []\n",
        "\n",
        "  for parola in frase:    \n",
        "\n",
        "    parola_decodificata = []\n",
        "    distanza = np.zeros(len(eng_diz_word2vec))\n",
        "\n",
        "    for idx, parola_target in enumerate(eng_diz_word2vec):\n",
        "\n",
        "      distanza[idx] = np.linalg.norm(parola - eng_diz_word2vec[parola_target])\n",
        "      parola_decodificata.append(parola_target)\n",
        "  \n",
        "    x.append(parola_decodificata[np.argmin(distanza)])\n",
        "\n",
        "  traduzione.append((' ').join(x))\n",
        "\n",
        "traduzione"
      ],
      "execution_count": 0,
      "outputs": [
        {
          "output_type": "execute_result",
          "data": {
            "text/plain": [
              "['_ _ _ _ work _ _ _']"
            ]
          },
          "metadata": {
            "tags": []
          },
          "execution_count": 163
        }
      ]
    },
    {
      "cell_type": "code",
      "metadata": {
        "id": "6EEUT9kEZ23H",
        "colab_type": "code",
        "colab": {}
      },
      "source": [
        ""
      ],
      "execution_count": 0,
      "outputs": []
    },
    {
      "cell_type": "code",
      "metadata": {
        "id": "JZB3_2-mV3xX",
        "colab_type": "code",
        "colab": {}
      },
      "source": [
        ""
      ],
      "execution_count": 0,
      "outputs": []
    }
  ]
}